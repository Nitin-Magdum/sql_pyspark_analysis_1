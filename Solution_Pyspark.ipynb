{
 "cells": [
  {
   "cell_type": "code",
   "execution_count": 1,
   "metadata": {},
   "outputs": [],
   "source": [
    "import os\n",
    "from pyspark.sql import SparkSession\n",
    "from pyspark.sql.functions import *\n",
    "from pyspark.sql.types import *\n",
    "from pyspark.sql.window import *\n",
    "from dotenv import load_dotenv\n",
    "import datetime"
   ]
  },
  {
   "cell_type": "code",
   "execution_count": 2,
   "metadata": {},
   "outputs": [],
   "source": [
    "load_dotenv()\n",
    "jdbc_driver_path = \"postgresql-42.7.4.jar\""
   ]
  },
  {
   "cell_type": "code",
   "execution_count": 3,
   "metadata": {},
   "outputs": [],
   "source": [
    "spark = SparkSession.builder \\\n",
    "    .appName('Solution') \\\n",
    "    .config(\"spark.driver.extraClassPath\", jdbc_driver_path) \\\n",
    "    .config(\"spark.sql.execution.arrow.pyspark.enabled\", \"true\") \\\n",
    "    .getOrCreate()"
   ]
  },
  {
   "cell_type": "code",
   "execution_count": 4,
   "metadata": {},
   "outputs": [],
   "source": [
    "jdbcHostname = os.getenv(\"HOST\")\n",
    "jdbcDatabase = os.getenv(\"DB_NAME\")\n",
    "jdbcUsername = os.getenv(\"USER\")\n",
    "jdbcPassword = os.getenv(\"PASSWORD\")\n",
    "jdbcPort = 5432 \n",
    "jdbcDriver = \"org.postgresql.Driver\"\n",
    "\n",
    "connProperties = {\n",
    "  \"user\": jdbcUsername,\n",
    "  \"password\": jdbcPassword,\n",
    "  \"driver\": jdbcDriver\n",
    "}\n",
    "\n",
    "jdbcUrl = f\"jdbc:postgresql://{jdbcHostname}:{jdbcPort}/{jdbcDatabase}\"\n"
   ]
  },
  {
   "cell_type": "code",
   "execution_count": 5,
   "metadata": {},
   "outputs": [],
   "source": [
    "work_df = spark.read.jdbc(url=jdbcUrl, table=\"(SELECT * FROM work)\", properties=connProperties)\n",
    "product_size_df = spark.read.jdbc(url=jdbcUrl, table=\"(SELECT * FROM product_size)\", properties=connProperties)\n",
    "subject_df = spark.read.jdbc(url=jdbcUrl, table=\"(SELECT * FROM subject)\", properties=connProperties)\n",
    "artist_df = spark.read.jdbc(url=jdbcUrl, table=\"(SELECT * FROM artist)\", properties=connProperties)\n",
    "canvas_size_df = spark.read.jdbc(url=jdbcUrl, table=\"(SELECT * FROM canvas_size)\", properties=connProperties)\n",
    "image_link_df = spark.read.jdbc(url=jdbcUrl, table=\"(SELECT * FROM image_link)\", properties=connProperties)\n",
    "museum_hours_df = spark.read.jdbc(url=jdbcUrl, table=\"(SELECT * FROM museum_hours)\", properties=connProperties)\n",
    "museum_df = spark.read.jdbc(url=jdbcUrl, table=\"(SELECT * FROM museum)\", properties=connProperties)"
   ]
  },
  {
   "cell_type": "markdown",
   "metadata": {},
   "source": [
    "### 1.  Fetch all the paintings which are not displayed on any museums?"
   ]
  },
  {
   "cell_type": "code",
   "execution_count": 6,
   "metadata": {},
   "outputs": [
    {
     "name": "stdout",
     "output_type": "stream",
     "text": [
      "10223\n",
      "+-------+--------------------+---------+-------+---------+\n",
      "|work_id|                name|artist_id|  style|museum_id|\n",
      "+-------+--------------------+---------+-------+---------+\n",
      "| 125752|Arabian Horses at...|      757|Baroque|     NULL|\n",
      "| 125818|Count Halm on His...|      757|Baroque|     NULL|\n",
      "| 125763|Napoleon Before t...|      757|Baroque|     NULL|\n",
      "| 125774|Peasants Resting ...|      757|Baroque|     NULL|\n",
      "| 125785|Portrait Oberleut...|      757|Baroque|     NULL|\n",
      "| 125796|The Rescue of Cou...|      757|Baroque|     NULL|\n",
      "| 125807|     The Stable Yard|      757|Baroque|     NULL|\n",
      "|  24532|Jacob A. Stamler ...|      563|   NULL|     NULL|\n",
      "| 124470| Kaleda off Le Havre|      563|   NULL|     NULL|\n",
      "| 124479|R. Bell &amp; Co....|      563|   NULL|     NULL|\n",
      "| 124488|Steam Sailing Shi...|      563|   NULL|     NULL|\n",
      "| 124497|The American Ship...|      563|   NULL|     NULL|\n",
      "| 124506|The Atalanta Runn...|      563|   NULL|     NULL|\n",
      "| 124515|The Auxiliary Ste...|      563|   NULL|     NULL|\n",
      "| 124524|The Auxiliary Ste...|      563|   NULL|     NULL|\n",
      "| 124533|The Barquentine H...|      563|   NULL|     NULL|\n",
      "| 124542|The First French ...|      563|   NULL|     NULL|\n",
      "| 124551|The French Brig D...|      563|   NULL|     NULL|\n",
      "| 124560|The Full-Rigger K...|      563|   NULL|     NULL|\n",
      "| 124569|The Richard Rylan...|      563|   NULL|     NULL|\n",
      "+-------+--------------------+---------+-------+---------+\n",
      "only showing top 20 rows\n",
      "\n"
     ]
    }
   ],
   "source": [
    "not_displayed_paintings = work_df.filter(work_df.museum_id.isNull())\n",
    "print(not_displayed_paintings.count())\n",
    "not_displayed_paintings.show()"
   ]
  },
  {
   "cell_type": "markdown",
   "metadata": {},
   "source": [
    "### 2.  Are there museums without any paintings?"
   ]
  },
  {
   "cell_type": "code",
   "execution_count": 7,
   "metadata": {},
   "outputs": [
    {
     "name": "stdout",
     "output_type": "stream",
     "text": [
      "0\n",
      "+---------+----+-------+----+-----+------+-------+-----+---+\n",
      "|museum_id|name|address|city|state|postal|country|phone|url|\n",
      "+---------+----+-------+----+-----+------+-------+-----+---+\n",
      "+---------+----+-------+----+-----+------+-------+-----+---+\n",
      "\n"
     ]
    }
   ],
   "source": [
    "museum_without_paintings = museum_df.join(work_df, museum_df[\"museum_id\"] == work_df[\"museum_id\"], \"left_anti\")\n",
    "print(museum_without_paintings.count())\n",
    "museum_without_paintings.show()"
   ]
  },
  {
   "cell_type": "markdown",
   "metadata": {},
   "source": [
    "#### 3. How many paintings have an asking price of more than their regular price?"
   ]
  },
  {
   "cell_type": "code",
   "execution_count": 8,
   "metadata": {},
   "outputs": [
    {
     "name": "stdout",
     "output_type": "stream",
     "text": [
      "+-------+-------+----------+-------------+\n",
      "|work_id|size_id|sale_price|regular_price|\n",
      "+-------+-------+----------+-------------+\n",
      "+-------+-------+----------+-------------+\n",
      "\n"
     ]
    }
   ],
   "source": [
    "product_size_df.filter(col(\"sale_price\") \\\n",
    "                       > col(\"regular_price\")).show()"
   ]
  },
  {
   "cell_type": "markdown",
   "metadata": {},
   "source": [
    "#### 4. Identify the paintings whose asking price is less than 50% of its regular price."
   ]
  },
  {
   "cell_type": "code",
   "execution_count": 22,
   "metadata": {},
   "outputs": [
    {
     "name": "stdout",
     "output_type": "stream",
     "text": [
      "58\n",
      "+-------+-------+----------+-------------+\n",
      "|work_id|size_id|sale_price|regular_price|\n",
      "+-------+-------+----------+-------------+\n",
      "|  31780|     36|        10|          125|\n",
      "|  31780|     30|        10|           95|\n",
      "|  31780|     36|        10|          125|\n",
      "|  31780|     30|        10|           95|\n",
      "| 198417|     36|        30|          125|\n",
      "| 198417|     30|        30|           95|\n",
      "|  31974|     24|        30|           85|\n",
      "|  17351|     24|        10|           85|\n",
      "|  17351|     30|        10|           95|\n",
      "|  17351|     36|        10|          125|\n",
      "|  30947|   3024|       285|          575|\n",
      "|  30947|   3226|       305|          645|\n",
      "|  23710|     30|        20|           95|\n",
      "|  23710|     24|        20|           85|\n",
      "|  20084|   6040|       585|         1245|\n",
      "| 133971|#VALUE!|      1025|         2235|\n",
      "|  28259|     30|        40|           95|\n",
      "|  28259|     24|        40|           85|\n",
      "|  28261|     24|        40|           85|\n",
      "|  28261|     30|        40|           95|\n",
      "+-------+-------+----------+-------------+\n",
      "only showing top 20 rows\n",
      "\n"
     ]
    }
   ],
   "source": [
    "filtered_product_size_df = product_size_df.filter(col('sale_price') \\\n",
    "                       < col('regular_price') * 0.5) \n",
    "\n",
    "print(filtered_product_size_df.count())\n",
    "filtered_product_size_df.show()"
   ]
  },
  {
   "cell_type": "markdown",
   "metadata": {},
   "source": [
    "#### 5. Which canvas size costs the most?"
   ]
  },
  {
   "cell_type": "code",
   "execution_count": 16,
   "metadata": {},
   "outputs": [
    {
     "name": "stdout",
     "output_type": "stream",
     "text": [
      "+--------------------+----------+\n",
      "|               canva|sale_price|\n",
      "+--------------------+----------+\n",
      "|48\" x 96\"(122 cm ...|      1115|\n",
      "+--------------------+----------+\n",
      "\n"
     ]
    }
   ],
   "source": [
    "window_spec = Window.orderBy(desc(\"sale_price\"))\n",
    "\n",
    "ranked_df = product_size_df.withColumn(\n",
    "    \"rnk\", \n",
    "    rank().over(window_spec)\n",
    ")\n",
    "\n",
    "top_ranked_df = ranked_df.filter(\n",
    "    col(\"rnk\") == 1\n",
    ")\n",
    "\n",
    "result_df = top_ranked_df.join(\n",
    "    canvas_size_df,\n",
    "    ranked_df[\"size_id\"].cast(\"string\") == canvas_size_df[\"size_id\"],\n",
    "    \"inner\"\n",
    ").select(\n",
    "    canvas_size_df[\"label\"].alias(\"canva\"), \n",
    "    ranked_df[\"sale_price\"]\n",
    ").show()\n"
   ]
  },
  {
   "cell_type": "markdown",
   "metadata": {},
   "source": [
    "#### 6. Delete duplicate records from the work, product_size, subject, and image_link tables."
   ]
  },
  {
   "cell_type": "markdown",
   "metadata": {},
   "source": [
    "#### 7. Identify the museums with invalid city information in the given dataset."
   ]
  },
  {
   "cell_type": "markdown",
   "metadata": {},
   "source": [
    "#### 8. Museum_Hours table has 1 invalid entry. Identify it and remove it."
   ]
  },
  {
   "cell_type": "markdown",
   "metadata": {},
   "source": [
    "#### 9. Fetch the top 10 most famous painting subjects."
   ]
  },
  {
   "cell_type": "markdown",
   "metadata": {},
   "source": [
    "#### 10. Identify the museums which are open on both Sunday and Monday. Display museum name and city."
   ]
  },
  {
   "cell_type": "markdown",
   "metadata": {},
   "source": [
    "#### 11. How many museums are open every single day?"
   ]
  },
  {
   "cell_type": "markdown",
   "metadata": {},
   "source": [
    "#### 12. Which are the top 5 most popular museums? (Popularity is defined based on the most number of paintings in a museum.)"
   ]
  },
  {
   "cell_type": "markdown",
   "metadata": {},
   "source": [
    "#### 13. Who are the top 5 most popular artists? (Popularity is defined based on the most number of paintings done by an artist.)"
   ]
  },
  {
   "cell_type": "markdown",
   "metadata": {},
   "source": [
    "#### 14. Display the 3 least popular canvas sizes."
   ]
  },
  {
   "cell_type": "markdown",
   "metadata": {},
   "source": [
    "#### 15. Which museum is open for the longest during a day? Display museum name, state, hours open, and which day."
   ]
  },
  {
   "cell_type": "markdown",
   "metadata": {},
   "source": [
    "#### 16. Which museum has the most number of paintings in the most popular painting style?"
   ]
  },
  {
   "cell_type": "markdown",
   "metadata": {},
   "source": [
    "#### 17. Identify the artists whose paintings are displayed in multiple countries."
   ]
  },
  {
   "cell_type": "markdown",
   "metadata": {},
   "source": [
    "#### 18. Display the country and the city with the most number of museums. Output two separate columns to mention the city and country. If there are multiple values, separate them with commas."
   ]
  },
  {
   "cell_type": "markdown",
   "metadata": {},
   "source": [
    "#### 19. Identify the artist and the museum where the most expensive and least expensive painting is placed. Display the artist's name, sale price, painting name, museum name, museum city, and canvas label."
   ]
  },
  {
   "cell_type": "markdown",
   "metadata": {},
   "source": [
    "#### 20. Which country has the 5th highest number of paintings?"
   ]
  },
  {
   "cell_type": "markdown",
   "metadata": {},
   "source": [
    "#### 21. Which are the 3 most popular and 3 least popular painting styles?"
   ]
  },
  {
   "cell_type": "markdown",
   "metadata": {},
   "source": [
    "#### 22. Which artist has the most number of portrait paintings outside the USA? Display the artist name, number of paintings, and the artist's nationality."
   ]
  }
 ],
 "metadata": {
  "kernelspec": {
   "display_name": "pyspark",
   "language": "python",
   "name": "python3"
  },
  "language_info": {
   "codemirror_mode": {
    "name": "ipython",
    "version": 3
   },
   "file_extension": ".py",
   "mimetype": "text/x-python",
   "name": "python",
   "nbconvert_exporter": "python",
   "pygments_lexer": "ipython3",
   "version": "3.12.4"
  }
 },
 "nbformat": 4,
 "nbformat_minor": 2
}
