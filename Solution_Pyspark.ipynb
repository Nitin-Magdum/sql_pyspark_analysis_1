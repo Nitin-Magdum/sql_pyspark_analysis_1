{
 "cells": [
  {
   "cell_type": "code",
   "execution_count": 9,
   "metadata": {},
   "outputs": [],
   "source": [
    "import os\n",
    "from pyspark.sql import SparkSession\n",
    "from pyspark.sql.functions import *\n",
    "from pyspark.sql.types import *\n",
    "from dotenv import load_dotenv\n",
    "import datetime"
   ]
  },
  {
   "cell_type": "code",
   "execution_count": 10,
   "metadata": {},
   "outputs": [],
   "source": [
    "load_dotenv()\n",
    "jdbc_driver_path = \"D:/Data_Engineering/SQL_and_PySpark/postgresql-42.7.4.jar\""
   ]
  },
  {
   "cell_type": "code",
   "execution_count": 11,
   "metadata": {},
   "outputs": [],
   "source": [
    "spark = SparkSession.builder \\\n",
    "    .appName('Solution') \\\n",
    "    .config(\"spark.driver.extraClassPath\", jdbc_driver_path) \\\n",
    "    .config(\"spark.sql.execution.arrow.pyspark.enabled\", \"true\") \\\n",
    "    .getOrCreate()"
   ]
  },
  {
   "cell_type": "code",
   "execution_count": 12,
   "metadata": {},
   "outputs": [],
   "source": [
    "# Define JDBC properties\n",
    "jdbcHostname = os.getenv(\"HOST\")\n",
    "jdbcDatabase = os.getenv(\"DB_NAME\")\n",
    "jdbcUsername = os.getenv(\"USER\")\n",
    "jdbcPassword = os.getenv(\"PASSWORD\")\n",
    "jdbcPort = 5432 \n",
    "jdbcDriver = \"org.postgresql.Driver\"\n",
    "\n",
    "connProperties = {\n",
    "  \"user\": jdbcUsername,\n",
    "  \"password\": jdbcPassword,\n",
    "  \"driver\": jdbcDriver\n",
    "}\n",
    "\n",
    "jdbcUrl = f\"jdbc:postgresql://{jdbcHostname}:{jdbcPort}/{jdbcDatabase}\"\n"
   ]
  },
  {
   "cell_type": "code",
   "execution_count": 13,
   "metadata": {},
   "outputs": [],
   "source": [
    "sql_work = \"(SELECT * FROM work) AS work_alias\"\n",
    "work_df = spark.read.jdbc(url=jdbcUrl, table=sql_work, properties=connProperties)"
   ]
  },
  {
   "cell_type": "code",
   "execution_count": 14,
   "metadata": {},
   "outputs": [],
   "source": [
    "sql_product_size = \"(SELECT * FROM product_size) AS product_size_alias\"\n",
    "product_size_df = spark.read.jdbc(url=jdbcUrl, table=sql_product_size, properties=connProperties)"
   ]
  },
  {
   "cell_type": "code",
   "execution_count": 15,
   "metadata": {},
   "outputs": [],
   "source": [
    "sql_subject = \"(SELECT * FROM subject) AS subject_alias\"\n",
    "subject_df = spark.read.jdbc(url=jdbcUrl, table=sql_subject, properties=connProperties)"
   ]
  },
  {
   "cell_type": "code",
   "execution_count": 16,
   "metadata": {},
   "outputs": [],
   "source": [
    "sql_artist = \"(SELECT * FROM artist) AS artist_alias\"\n",
    "artist_df = spark.read.jdbc(url=jdbcUrl, table=sql_artist, properties=connProperties)"
   ]
  },
  {
   "cell_type": "code",
   "execution_count": 17,
   "metadata": {},
   "outputs": [],
   "source": [
    "sql_canvas_size = \"(SELECT * FROM canvas_size) AS canvas_size_alias\"\n",
    "canvas_size_df = spark.read.jdbc(url=jdbcUrl, table=sql_canvas_size, properties=connProperties)"
   ]
  },
  {
   "cell_type": "code",
   "execution_count": 18,
   "metadata": {},
   "outputs": [],
   "source": [
    "sql_image_link = \"(SELECT * FROM image_link) AS image_link_alias\"\n",
    "image_link_df = spark.read.jdbc(url=jdbcUrl, table=sql_image_link, properties=connProperties)"
   ]
  },
  {
   "cell_type": "code",
   "execution_count": 19,
   "metadata": {},
   "outputs": [],
   "source": [
    "sql_museum_hours = \"(SELECT * FROM museum_hours) AS museum_hours_alias\"\n",
    "museum_hours_df = spark.read.jdbc(url=jdbcUrl, table=sql_museum_hours, properties=connProperties)"
   ]
  },
  {
   "cell_type": "code",
   "execution_count": 20,
   "metadata": {},
   "outputs": [],
   "source": [
    "sql_museum = \"(SELECT * FROM museum) AS museum_alias\"\n",
    "museum_df = spark.read.jdbc(url=jdbcUrl, table=sql_museum, properties=connProperties)"
   ]
  },
  {
   "cell_type": "markdown",
   "metadata": {},
   "source": [
    "### 1.  Fetch all the paintings which are not displayed on any museums?"
   ]
  },
  {
   "cell_type": "code",
   "execution_count": 24,
   "metadata": {},
   "outputs": [
    {
     "name": "stdout",
     "output_type": "stream",
     "text": [
      "10223\n",
      "+-------+--------------------+---------+-------+---------+\n",
      "|work_id|                name|artist_id|  style|museum_id|\n",
      "+-------+--------------------+---------+-------+---------+\n",
      "| 125752|Arabian Horses at...|      757|Baroque|     NULL|\n",
      "| 125818|Count Halm on His...|      757|Baroque|     NULL|\n",
      "| 125763|Napoleon Before t...|      757|Baroque|     NULL|\n",
      "| 125774|Peasants Resting ...|      757|Baroque|     NULL|\n",
      "| 125785|Portrait Oberleut...|      757|Baroque|     NULL|\n",
      "| 125796|The Rescue of Cou...|      757|Baroque|     NULL|\n",
      "| 125807|     The Stable Yard|      757|Baroque|     NULL|\n",
      "|  24532|Jacob A. Stamler ...|      563|   NULL|     NULL|\n",
      "| 124470| Kaleda off Le Havre|      563|   NULL|     NULL|\n",
      "| 124479|R. Bell &amp; Co....|      563|   NULL|     NULL|\n",
      "| 124488|Steam Sailing Shi...|      563|   NULL|     NULL|\n",
      "| 124497|The American Ship...|      563|   NULL|     NULL|\n",
      "| 124506|The Atalanta Runn...|      563|   NULL|     NULL|\n",
      "| 124515|The Auxiliary Ste...|      563|   NULL|     NULL|\n",
      "| 124524|The Auxiliary Ste...|      563|   NULL|     NULL|\n",
      "| 124533|The Barquentine H...|      563|   NULL|     NULL|\n",
      "| 124542|The First French ...|      563|   NULL|     NULL|\n",
      "| 124551|The French Brig D...|      563|   NULL|     NULL|\n",
      "| 124560|The Full-Rigger K...|      563|   NULL|     NULL|\n",
      "| 124569|The Richard Rylan...|      563|   NULL|     NULL|\n",
      "+-------+--------------------+---------+-------+---------+\n",
      "only showing top 20 rows\n",
      "\n"
     ]
    }
   ],
   "source": [
    "not_displayed_paintings = work_df.filter(work_df.museum_id.isNull())\n",
    "print(not_displayed_paintings.count())\n",
    "not_displayed_paintings.show()"
   ]
  },
  {
   "cell_type": "markdown",
   "metadata": {},
   "source": [
    "### 2.  Are there museums without any paintings?"
   ]
  },
  {
   "cell_type": "code",
   "execution_count": null,
   "metadata": {},
   "outputs": [],
   "source": []
  }
 ],
 "metadata": {
  "kernelspec": {
   "display_name": "pyspark",
   "language": "python",
   "name": "python3"
  },
  "language_info": {
   "codemirror_mode": {
    "name": "ipython",
    "version": 3
   },
   "file_extension": ".py",
   "mimetype": "text/x-python",
   "name": "python",
   "nbconvert_exporter": "python",
   "pygments_lexer": "ipython3",
   "version": "3.12.4"
  }
 },
 "nbformat": 4,
 "nbformat_minor": 2
}
