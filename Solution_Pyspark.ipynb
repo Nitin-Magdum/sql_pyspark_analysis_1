{
 "cells": [
  {
   "cell_type": "code",
   "execution_count": 1,
   "metadata": {},
   "outputs": [],
   "source": [
    "import os\n",
    "from pyspark.sql import SparkSession\n",
    "from pyspark.sql.functions import *\n",
    "from pyspark.sql.types import *\n",
    "from dotenv import load_dotenv\n",
    "import datetime"
   ]
  },
  {
   "cell_type": "code",
   "execution_count": 2,
   "metadata": {},
   "outputs": [],
   "source": [
    "load_dotenv()\n",
    "jdbc_driver_path = \"D:/Data_Engineering/SQL_and_PySpark/postgresql-42.7.4.jar\""
   ]
  },
  {
   "cell_type": "code",
   "execution_count": 3,
   "metadata": {},
   "outputs": [],
   "source": [
    "spark = SparkSession.builder \\\n",
    "    .appName('Solution') \\\n",
    "    .config(\"spark.driver.extraClassPath\", jdbc_driver_path) \\\n",
    "    .config(\"spark.sql.execution.arrow.pyspark.enabled\", \"true\") \\\n",
    "    .getOrCreate()"
   ]
  },
  {
   "cell_type": "code",
   "execution_count": 4,
   "metadata": {},
   "outputs": [],
   "source": [
    "# Define JDBC properties\n",
    "jdbcHostname = os.getenv(\"HOST\")\n",
    "jdbcDatabase = os.getenv(\"DB_NAME\")\n",
    "jdbcUsername = os.getenv(\"USER\")\n",
    "jdbcPassword = os.getenv(\"PASSWORD\")\n",
    "jdbcPort = 5432 \n",
    "jdbcDriver = \"org.postgresql.Driver\"\n",
    "\n",
    "connProperties = {\n",
    "  \"user\": jdbcUsername,\n",
    "  \"password\": jdbcPassword,\n",
    "  \"driver\": jdbcDriver\n",
    "}\n",
    "\n",
    "jdbcUrl = f\"jdbc:postgresql://{jdbcHostname}:{jdbcPort}/{jdbcDatabase}\"\n"
   ]
  },
  {
   "cell_type": "code",
   "execution_count": 5,
   "metadata": {},
   "outputs": [],
   "source": [
    "sql = \"(SELECT * FROM artist) AS artist_alias\"\n",
    "artist_df = spark.read.jdbc(url = jdbcUrl, table = sql, properties = connProperties)"
   ]
  },
  {
   "cell_type": "code",
   "execution_count": 6,
   "metadata": {},
   "outputs": [
    {
     "name": "stdout",
     "output_type": "stream",
     "text": [
      "+---------+--------------------+----------+------------+------------+-----------+--------------------+-----+-----+\n",
      "|artist_id|           full_name|first_name|middle_names|   last_name|nationality|               style|birth|death|\n",
      "+---------+--------------------+----------+------------+------------+-----------+--------------------+-----+-----+\n",
      "|      500|Pierre-Auguste Re...|    Pierre|     Auguste|      Renoir|     French|       Impressionist| 1841| 1919|\n",
      "|      501|   Alexandre Cabanel| Alexandre|        NULL|     Cabanel|     French|          Classicist| 1823| 1889|\n",
      "|      502|         James Ensor|     James|        NULL|       Ensor|    Belgian|       Expressionist| 1860| 1949|\n",
      "|      503|     Maximilien Luce|Maximilien|        NULL|        Luce|     French|         Pointillist| 1858| 1941|\n",
      "|      504|        August Macke|    August|        NULL|       Macke|     German|       Expressionist| 1887| 1914|\n",
      "|      505| Thomas Gainsborough|    Thomas|        NULL|Gainsborough|    English|              Rococo| 1727| 1788|\n",
      "|      506|        Julien Dupré|    Julien|        NULL|       Dupre|     French|          Naturalist| 1851| 1910|\n",
      "|      507|       George Catlin|    George|        NULL|      Catlin|   American|       American West| 1796| 1872|\n",
      "|      508|Federico Zandomen...|  Federico|        NULL|Zandomeneghi|    Italian|       Expressionist| 1841| 1917|\n",
      "|      509|   Cornelis Springer|  Cornelis|        NULL|    Springer|      Dutch|       Landscape Art| 1817| 1891|\n",
      "|      510|        Hans Memling|      Hans|        NULL|     Memling|      Dutch|Northern Renaissance| 1435| 1494|\n",
      "|      511|       Piet Mondrian|      Piet|        NULL|    Mondrian|      Dutch|          Modern Art| 1872| 1944|\n",
      "|      512|Lemuel Francis Ab...|    Lemuel|     Francis|      Abbott|    English|         Portraitist| 1760| 1803|\n",
      "|      513|        Mary Cassatt|      Mary|        NULL|     Cassatt|   American|       Impressionist| 1844| 1926|\n",
      "|      514| Heinrich Campendonk|  Heinrich|        NULL|  Campendonk|     German|       Expressionist| 1889| 1957|\n",
      "|      515|         Thomas Cole|    Thomas|        NULL|        Cole|   American| Hudson River School| 1801| 1848|\n",
      "|      516|         Thomas Luny|    Thomas|        NULL|        Luny|    English|          Marine Art| 1759| 1837|\n",
      "|      517| Eugène-Louis Boudin|    Eugene|       Louis|      Boudin|     French|       Impressionist| 1824| 1898|\n",
      "|      518|    Hendrick Dubbels|  Hendrick|        NULL|     Dubbels|      Dutch|          Marine Art| 1621| 1676|\n",
      "|      519|      Frank Duveneck|     Frank|        NULL|    Duveneck|   American|             Realist| 1848| 1919|\n",
      "+---------+--------------------+----------+------------+------------+-----------+--------------------+-----+-----+\n",
      "only showing top 20 rows\n",
      "\n"
     ]
    }
   ],
   "source": [
    "artist_df.show()"
   ]
  },
  {
   "cell_type": "code",
   "execution_count": null,
   "metadata": {},
   "outputs": [],
   "source": []
  }
 ],
 "metadata": {
  "kernelspec": {
   "display_name": "pyspark",
   "language": "python",
   "name": "python3"
  },
  "language_info": {
   "codemirror_mode": {
    "name": "ipython",
    "version": 3
   },
   "file_extension": ".py",
   "mimetype": "text/x-python",
   "name": "python",
   "nbconvert_exporter": "python",
   "pygments_lexer": "ipython3",
   "version": "3.12.4"
  }
 },
 "nbformat": 4,
 "nbformat_minor": 2
}
