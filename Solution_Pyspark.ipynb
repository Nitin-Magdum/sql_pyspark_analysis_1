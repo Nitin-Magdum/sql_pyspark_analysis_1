{
 "cells": [
  {
   "cell_type": "code",
   "execution_count": 1,
   "metadata": {},
   "outputs": [],
   "source": [
    "import os\n",
    "from pyspark.sql import SparkSession\n",
    "from pyspark.sql.functions import *\n",
    "from pyspark.sql.types import *\n",
    "from dotenv import load_dotenv\n",
    "import datetime"
   ]
  },
  {
   "cell_type": "code",
   "execution_count": 2,
   "metadata": {},
   "outputs": [],
   "source": [
    "load_dotenv()\n",
    "jdbc_driver_path = \"postgresql-42.7.4.jar\""
   ]
  },
  {
   "cell_type": "code",
   "execution_count": 3,
   "metadata": {},
   "outputs": [],
   "source": [
    "spark = SparkSession.builder \\\n",
    "    .appName('Solution') \\\n",
    "    .config(\"spark.driver.extraClassPath\", jdbc_driver_path) \\\n",
    "    .config(\"spark.sql.execution.arrow.pyspark.enabled\", \"true\") \\\n",
    "    .getOrCreate()"
   ]
  },
  {
   "cell_type": "code",
   "execution_count": 4,
   "metadata": {},
   "outputs": [],
   "source": [
    "jdbcHostname = os.getenv(\"HOST\")\n",
    "jdbcDatabase = os.getenv(\"DB_NAME\")\n",
    "jdbcUsername = os.getenv(\"USER\")\n",
    "jdbcPassword = os.getenv(\"PASSWORD\")\n",
    "jdbcPort = 5432 \n",
    "jdbcDriver = \"org.postgresql.Driver\"\n",
    "\n",
    "connProperties = {\n",
    "  \"user\": jdbcUsername,\n",
    "  \"password\": jdbcPassword,\n",
    "  \"driver\": jdbcDriver\n",
    "}\n",
    "\n",
    "jdbcUrl = f\"jdbc:postgresql://{jdbcHostname}:{jdbcPort}/{jdbcDatabase}\"\n"
   ]
  },
  {
   "cell_type": "code",
   "execution_count": 5,
   "metadata": {},
   "outputs": [],
   "source": [
    "work_df = spark.read.jdbc(url=jdbcUrl, table=\"(SELECT * FROM work)\", properties=connProperties)\n",
    "product_size_df = spark.read.jdbc(url=jdbcUrl, table=\"(SELECT * FROM product_size)\", properties=connProperties)\n",
    "subject_df = spark.read.jdbc(url=jdbcUrl, table=\"(SELECT * FROM subject)\", properties=connProperties)\n",
    "artist_df = spark.read.jdbc(url=jdbcUrl, table=\"(SELECT * FROM artist)\", properties=connProperties)\n",
    "canvas_size_df = spark.read.jdbc(url=jdbcUrl, table=\"(SELECT * FROM canvas_size)\", properties=connProperties)\n",
    "image_link_df = spark.read.jdbc(url=jdbcUrl, table=\"(SELECT * FROM image_link)\", properties=connProperties)\n",
    "museum_hours_df = spark.read.jdbc(url=jdbcUrl, table=\"(SELECT * FROM museum_hours)\", properties=connProperties)\n",
    "museum_df = spark.read.jdbc(url=jdbcUrl, table=\"(SELECT * FROM museum)\", properties=connProperties)"
   ]
  },
  {
   "cell_type": "markdown",
   "metadata": {},
   "source": [
    "### 1.  Fetch all the paintings which are not displayed on any museums?"
   ]
  },
  {
   "cell_type": "code",
   "execution_count": 6,
   "metadata": {},
   "outputs": [
    {
     "name": "stdout",
     "output_type": "stream",
     "text": [
      "10223\n",
      "+-------+--------------------+---------+-------+---------+\n",
      "|work_id|                name|artist_id|  style|museum_id|\n",
      "+-------+--------------------+---------+-------+---------+\n",
      "| 125752|Arabian Horses at...|      757|Baroque|     NULL|\n",
      "| 125818|Count Halm on His...|      757|Baroque|     NULL|\n",
      "| 125763|Napoleon Before t...|      757|Baroque|     NULL|\n",
      "| 125774|Peasants Resting ...|      757|Baroque|     NULL|\n",
      "| 125785|Portrait Oberleut...|      757|Baroque|     NULL|\n",
      "| 125796|The Rescue of Cou...|      757|Baroque|     NULL|\n",
      "| 125807|     The Stable Yard|      757|Baroque|     NULL|\n",
      "|  24532|Jacob A. Stamler ...|      563|   NULL|     NULL|\n",
      "| 124470| Kaleda off Le Havre|      563|   NULL|     NULL|\n",
      "| 124479|R. Bell &amp; Co....|      563|   NULL|     NULL|\n",
      "| 124488|Steam Sailing Shi...|      563|   NULL|     NULL|\n",
      "| 124497|The American Ship...|      563|   NULL|     NULL|\n",
      "| 124506|The Atalanta Runn...|      563|   NULL|     NULL|\n",
      "| 124515|The Auxiliary Ste...|      563|   NULL|     NULL|\n",
      "| 124524|The Auxiliary Ste...|      563|   NULL|     NULL|\n",
      "| 124533|The Barquentine H...|      563|   NULL|     NULL|\n",
      "| 124542|The First French ...|      563|   NULL|     NULL|\n",
      "| 124551|The French Brig D...|      563|   NULL|     NULL|\n",
      "| 124560|The Full-Rigger K...|      563|   NULL|     NULL|\n",
      "| 124569|The Richard Rylan...|      563|   NULL|     NULL|\n",
      "+-------+--------------------+---------+-------+---------+\n",
      "only showing top 20 rows\n",
      "\n"
     ]
    }
   ],
   "source": [
    "not_displayed_paintings = work_df.filter(work_df.museum_id.isNull())\n",
    "print(not_displayed_paintings.count())\n",
    "not_displayed_paintings.show()"
   ]
  },
  {
   "cell_type": "markdown",
   "metadata": {},
   "source": [
    "### 2.  Are there museums without any paintings?"
   ]
  },
  {
   "cell_type": "code",
   "execution_count": 7,
   "metadata": {},
   "outputs": [
    {
     "name": "stdout",
     "output_type": "stream",
     "text": [
      "0\n",
      "+---------+----+-------+----+-----+------+-------+-----+---+\n",
      "|museum_id|name|address|city|state|postal|country|phone|url|\n",
      "+---------+----+-------+----+-----+------+-------+-----+---+\n",
      "+---------+----+-------+----+-----+------+-------+-----+---+\n",
      "\n"
     ]
    }
   ],
   "source": [
    "museum_without_paintings = museum_df.join(work_df, museum_df[\"museum_id\"] == work_df[\"museum_id\"], \"left_anti\")\n",
    "print(museum_without_paintings.count())\n",
    "museum_without_paintings.show()"
   ]
  }
 ],
 "metadata": {
  "kernelspec": {
   "display_name": "pyspark",
   "language": "python",
   "name": "python3"
  },
  "language_info": {
   "codemirror_mode": {
    "name": "ipython",
    "version": 3
   },
   "file_extension": ".py",
   "mimetype": "text/x-python",
   "name": "python",
   "nbconvert_exporter": "python",
   "pygments_lexer": "ipython3",
   "version": "3.12.4"
  }
 },
 "nbformat": 4,
 "nbformat_minor": 2
}
